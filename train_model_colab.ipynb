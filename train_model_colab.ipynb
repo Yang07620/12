{
 "cells": [
  {
   "cell_type": "code",
   "source": [
    "import tensorflow as tf\n",
    "from tensorflow.keras import layers, models\n",
    "from tensorflow.keras.datasets import mnist\n",
    "import os\n",
    "\n",
    "(x_train, y_train), (_, _) = mnist.load_data()\n",
    "x_train = x_train[y_train != 0]\n",
    "y_train = y_train[y_train != 0]\n",
    "x_train = x_train / 255.0\n",
    "\n",
    "model = models.Sequential([\n",
    "    layers.Flatten(input_shape=(28, 28)),\n",
    "    layers.Dense(128, activation='relu'),\n",
    "    layers.Dense(9, activation='softmax')\n",
    "])\n",
    "\n",
    "model.compile(optimizer='adam',\n",
    "              loss='sparse_categorical_crossentropy',\n",
    "              metrics=['accuracy'])\n",
    "model.fit(x_train, y_train - 1, epochs=5)\n",
    "\n",
    "os.makedirs('model', exist_ok=True)\n",
    "model.save('model/model.h5')\n",
    "\n",
    "from google.colab import files\n",
    "files.download('model/model.h5')"
   ],
   "metadata": {},
   "execution_count": null,
   "outputs": []
  }
 ],
 "metadata": {},
 "nbformat": 4,
 "nbformat_minor": 2
}
